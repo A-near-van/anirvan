{
 "cells": [
  {
   "cell_type": "code",
   "execution_count": 153,
   "id": "6b19a138-8595-4f1b-aa78-a9fa7c0703cf",
   "metadata": {},
   "outputs": [],
   "source": [
    "#3 NumPy Arrays"
   ]
  },
  {
   "cell_type": "code",
   "execution_count": 154,
   "id": "58e91c0e-c5fc-4527-980a-a736de14c49e",
   "metadata": {},
   "outputs": [],
   "source": [
    "import numpy as np"
   ]
  },
  {
   "cell_type": "code",
   "execution_count": 155,
   "id": "6e4d8bda-3a09-4376-84bd-70c9858a642f",
   "metadata": {},
   "outputs": [],
   "source": [
    "#3.1 1D NumPy Arrays"
   ]
  },
  {
   "cell_type": "code",
   "execution_count": 161,
   "id": "d669b803-ea17-4eb5-85dd-4f0ad612f277",
   "metadata": {},
   "outputs": [
    {
     "name": "stdout",
     "output_type": "stream",
     "text": [
      "[ 80 108  36  48 124  68  16 200 156 140]\n",
      "24.4\n",
      "23.5\n",
      "13.828955130450023\n",
      "6\n",
      "7\n",
      "50\n",
      "4\n",
      "4\n",
      "50\n",
      "[27 31 50 39 35]\n"
     ]
    }
   ],
   "source": [
    "list = [20,27,9,12,31,17,4,50,39,35]\n",
    "\n",
    "arr = np.array(list)\n",
    "\n",
    "print(4*arr)\n",
    "\n",
    "print(np.mean(arr))\n",
    "\n",
    "print(np.median(arr))\n",
    "\n",
    "print(np.std(arr))\n",
    "\n",
    "print(np.argmin(arr))\n",
    "\n",
    "print(np.argmax(arr))\n",
    "\n",
    "print(arr[np.argmax(arr)])\n",
    "\n",
    "print(arr[np.argmin(arr)])\n",
    "\n",
    "print(np.min(arr))\n",
    "\n",
    "print(np.max(arr)) # The values match\n",
    "\n",
    "new_list = []\n",
    "for i in list:\n",
    "    if i > 20:\n",
    "        new_list.append(i)\n",
    "    new_array = np.array(new_list)\n",
    "\n",
    "print(new_array)"
   ]
  },
  {
   "cell_type": "code",
   "execution_count": 157,
   "id": "835bfdde-48db-459e-9018-c5bbabf08ab5",
   "metadata": {},
   "outputs": [],
   "source": [
    "#3.2 2D NumPy Arrays"
   ]
  },
  {
   "cell_type": "code",
   "execution_count": 163,
   "id": "2f3a7db4-5438-4a50-93b3-470aae34df71",
   "metadata": {},
   "outputs": [
    {
     "name": "stdout",
     "output_type": "stream",
     "text": [
      "(3, 4)\n",
      "17\n",
      "14\n",
      "19\n",
      "8\n",
      "21\n",
      "14\n",
      "3\n",
      "[[10 24 34 18]\n",
      " [16 42 28  6]\n",
      " [12 26 38 22]]\n",
      "13\n",
      "6.333333333333333\n",
      "15.333333333333334\n",
      "16.666666666666668\n",
      "7.666666666666667\n",
      "11.5\n",
      "17\n",
      "21\n",
      "19\n",
      "5\n",
      "12\n",
      "14\n",
      "3\n",
      "[ 5 12 17  9  8 21 14  3  6 13 19 11]\n",
      "7\n",
      "5\n",
      "(np.int64(1), np.int64(1))\n",
      "(np.int64(1), np.int64(3))\n",
      "21\n",
      "3\n",
      "[17 21 19]\n",
      "[17 19 21]\n"
     ]
    }
   ],
   "source": [
    "matrix = [\n",
    "    [5,12,17,9],\n",
    "    [8,21,14,3],\n",
    "    [6,13,19,11]\n",
    "]\n",
    "\n",
    "print(np.shape(matrix)) # 3 rows 4 columns\n",
    "\n",
    "for i in range(np.shape(matrix)[0]):\n",
    "    print(np.array(matrix)[i, 2])\n",
    "\n",
    "for i in range(np.shape(matrix)[1]):\n",
    "    print(np.array(matrix)[1, i])\n",
    "\n",
    "double = 2*np.array(matrix)\n",
    "\n",
    "print(double)\n",
    "\n",
    "print(matrix[2][1])\n",
    "\n",
    "for j in range(np.shape(matrix)[1]):\n",
    "    column = [matrix[i][j] for i in range(len(matrix))]\n",
    "    print(np.mean(np.array(column)))\n",
    "\n",
    "new_list = []\n",
    "for i in range(np.shape(matrix)[0]):\n",
    "    for j in range(np.shape(matrix)[1]):\n",
    "        value = np.array(matrix)[i,j]\n",
    "        new_list.append(value)\n",
    "\n",
    "new_arr = np.array(new_list)\n",
    "print(np.mean(new_arr))\n",
    "\n",
    "arr = np.array(matrix)\n",
    "\n",
    "for i in range(np.shape(arr)[0]):\n",
    "    new_list = []\n",
    "    for j in range(np.shape(arr)[1]):\n",
    "        new_list.append(arr[i,j])\n",
    "        new_arr = np.array(new_list)\n",
    "    print(np.max(new_list))\n",
    "\n",
    "for i in range(np.shape(arr)[1]):\n",
    "    new_list = []\n",
    "    for j in range(np.shape(arr)[0]):\n",
    "        new_list.append(arr[j,i])\n",
    "        new_arr = np.array(new_list)\n",
    "    print(np.min(new_list))\n",
    "\n",
    "print(arr.flatten()) # The new shape is (1,12). All the rows got compressed into one.\n",
    "\n",
    "print(np.argmin(arr)) #7\n",
    "\n",
    "print(np.argmax(arr)) # 5\n",
    "\n",
    "x = np.argmax(arr)\n",
    "\n",
    "y = np.argmin(arr)\n",
    "\n",
    "print(np.unravel_index(x,(3,4))) # (1,1)\n",
    "\n",
    "print(np.unravel_index(y,(3,4))) # (1,3)\n",
    "\n",
    "z = np.unravel_index(x,(3,4))\n",
    "\n",
    "a = np.unravel_index(y,(3,4))\n",
    "\n",
    "print(arr[z]) # 21\n",
    "\n",
    "print(arr[a]) # 3\n",
    "\n",
    "new_list = []\n",
    "for i in range(np.shape(matrix)[0]):\n",
    "    for j in range(np.shape(matrix)[1]):\n",
    "        if arr[i,j] > 15:\n",
    "            new_list.append(arr[i,j])\n",
    "print(np.array(new_list))\n",
    "\n",
    "b = np.array(new_list)\n",
    "print(np.sort(b))\n"
   ]
  },
  {
   "cell_type": "code",
   "execution_count": 166,
   "id": "45cf5647-ffe1-47f5-b461-f85e8a948f0f",
   "metadata": {},
   "outputs": [
    {
     "name": "stdout",
     "output_type": "stream",
     "text": [
      "[[ 2  3  5]\n",
      " [11 13 17]\n",
      " [ 7 10 13]]\n"
     ]
    }
   ],
   "source": [
    "# 4 Prime Star Systems\n",
    "\n",
    "arr = np.array([\n",
    "    [2,3,5],\n",
    "    [14,6,8],\n",
    "    [11,13,17],\n",
    "    [7,10,13]\n",
    "])\n",
    "\n",
    "def prime_number_fisher(array):\n",
    "    list_of_rows = []\n",
    "    for i in range(np.shape(array)[0]):\n",
    "        for j in range(np.shape(array)[1]):\n",
    "            x = 1\n",
    "            while x < array[i,j]:\n",
    "                x +=1\n",
    "                if x == array[i,j]:\n",
    "                    row = array[i].tolist()\n",
    "                    if row not in list_of_rows:\n",
    "                        list_of_rows.append(row)\n",
    "                elif arr[i,j]%x == 0:\n",
    "                    break\n",
    "    return np.array(list_of_rows)\n",
    "                \n",
    "\n",
    "print(prime_number_fisher(arr))"
   ]
  },
  {
   "cell_type": "code",
   "execution_count": null,
   "id": "28387b16-7250-4346-8faa-65af5e331b75",
   "metadata": {},
   "outputs": [],
   "source": [
    "#5 Checkers"
   ]
  },
  {
   "cell_type": "code",
   "execution_count": 167,
   "id": "2f38dcb8-e3c9-4e02-9ece-b51cf4d587b5",
   "metadata": {},
   "outputs": [
    {
     "name": "stdout",
     "output_type": "stream",
     "text": [
      "[[1. 0. 1. 0. 1. 0. 1. 0.]\n",
      " [0. 1. 0. 1. 0. 1. 0. 1.]\n",
      " [1. 0. 1. 0. 1. 0. 1. 0.]\n",
      " [0. 1. 0. 1. 0. 1. 0. 1.]\n",
      " [1. 0. 1. 0. 1. 0. 1. 0.]\n",
      " [0. 1. 0. 1. 0. 1. 0. 1.]\n",
      " [1. 0. 1. 0. 1. 0. 1. 0.]\n",
      " [0. 1. 0. 1. 0. 1. 0. 1.]]\n",
      "[[0. 1. 0. 1. 0. 1. 0. 1.]\n",
      " [1. 0. 1. 0. 1. 0. 1. 0.]\n",
      " [0. 1. 0. 1. 0. 1. 0. 1.]\n",
      " [1. 0. 1. 0. 1. 0. 1. 0.]\n",
      " [0. 1. 0. 1. 0. 1. 0. 1.]\n",
      " [1. 0. 1. 0. 1. 0. 1. 0.]\n",
      " [0. 1. 0. 1. 0. 1. 0. 1.]\n",
      " [1. 0. 1. 0. 1. 0. 1. 0.]]\n"
     ]
    }
   ],
   "source": [
    "x = np.zeros((8,8))\n",
    "y = np.zeros((8,8))\n",
    "\n",
    "for i in range(np.shape(x)[0]):\n",
    "    for j in range(np.shape(x)[1]):\n",
    "        if (i+j)%2 == 0:\n",
    "            x[i,j] = 1\n",
    "print(x)\n",
    "\n",
    "for i in range(np.shape(y)[0]):\n",
    "    for j in range(np.shape(y)[1]):\n",
    "        if (i+j)%2 != 0:\n",
    "            y[i,j] = 1\n",
    "\n",
    "print(y)"
   ]
  },
  {
   "cell_type": "code",
   "execution_count": null,
   "id": "3c8df5ef-002b-4e66-92fc-967dca550b4b",
   "metadata": {},
   "outputs": [],
   "source": [
    "# 6 The Expanding Universe"
   ]
  },
  {
   "cell_type": "code",
   "execution_count": 174,
   "id": "105ac88e-8349-47df-aca1-16564027e731",
   "metadata": {},
   "outputs": [
    {
     "name": "stdout",
     "output_type": "stream",
     "text": [
      "['g  a  l  a  x  y  ' 'c  l  u  s  t  e  r  ']\n"
     ]
    }
   ],
   "source": [
    "def spaces(list_of_str, n):\n",
    "    array = np.array(list_of_str)\n",
    "    new_list = []\n",
    "    for i in array:\n",
    "        j = 0\n",
    "        word = \"\"\n",
    "        while j < len(i):\n",
    "            word += i[j] + n*\" \"\n",
    "            j += 1\n",
    "        new_list.append(word)\n",
    "    print(np.array(new_list))\n",
    "            \n",
    "\n",
    "spaces(['galaxy', 'cluster'], 2)"
   ]
  },
  {
   "cell_type": "code",
   "execution_count": 181,
   "id": "57a71fef-bd1d-41d9-b919-89f0d4b9254d",
   "metadata": {},
   "outputs": [
    {
     "name": "stdout",
     "output_type": "stream",
     "text": [
      "[[1764  613 1680  695  563]\n",
      " [1470 1905 1173  632 1846]\n",
      " [1269 1883 1000  825 1815]\n",
      " [ 754  593 1943 1200 1783]\n",
      " [1051  640  564 1088 1623]]\n",
      "[1680 1846 1815 1783 1088]\n"
     ]
    }
   ],
   "source": [
    "stars = np.random.randint(500, 2000, (5,5))\n",
    "print(stars)\n",
    "\n",
    "def secondBrightest(arr):\n",
    "    new_list = []\n",
    "    for i in range(np.shape(arr)[0]):\n",
    "        tracker = np.min(arr[i])\n",
    "        for j in arr[i]:\n",
    "            if j > tracker and j != np.max(arr[i]):\n",
    "                tracker = j\n",
    "        new_list.append(tracker)\n",
    "    print(np.array(new_list))\n",
    "             \n",
    "\n",
    "secondBrightest(stars)"
   ]
  },
  {
   "cell_type": "code",
   "execution_count": null,
   "id": "54881c2c-30f2-475e-bc49-f8d19150b47a",
   "metadata": {},
   "outputs": [],
   "source": []
  }
 ],
 "metadata": {
  "kernelspec": {
   "display_name": "Python 3 (ipykernel)",
   "language": "python",
   "name": "python3"
  },
  "language_info": {
   "codemirror_mode": {
    "name": "ipython",
    "version": 3
   },
   "file_extension": ".py",
   "mimetype": "text/x-python",
   "name": "python",
   "nbconvert_exporter": "python",
   "pygments_lexer": "ipython3",
   "version": "3.13.5"
  }
 },
 "nbformat": 4,
 "nbformat_minor": 5
}
